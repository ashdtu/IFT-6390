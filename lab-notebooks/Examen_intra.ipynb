{
 "cells": [
  {
   "cell_type": "code",
   "execution_count": 1,
   "metadata": {
    "id": "DAgC8LQlqjWI"
   },
   "outputs": [],
   "source": [
    "import numpy as np"
   ]
  },
  {
   "cell_type": "markdown",
   "metadata": {
    "id": "My9adTIjPh5X"
   },
   "source": [
    "# IFT6390 - Lab Midterm Instructions\n",
    "\n",
    "You have exactly 1 hour and 15 minutes to take this exam.\n",
    "\n",
    "You need to submit your solutions as a `.py` file named `solution.py` to the Gradescope entry `Lab Midterm`.\n",
    "\n",
    "Each function or method you are asked to implement is worth 1 point. 20% of the marks are given to visible autograder test cases for which the input and desired output is visible, and the remaining 80% of the points are given to autograder test cases for which you would not see the input and output.\n",
    "\n",
    "---\n",
    "\n",
    "Vous avez exactement 1 heure et 15 minutes pour passer cet examen.\n",
    "\n",
    "Vous devez soumettre vos solutions sous la forme d'un fichier `.py` nommé `solution.py` à l'entrée Gradescope `Lab Midterm`.\n",
    "\n",
    "Chaque fonction ou méthode que l'on vous demande d'implémenter vaut 1 point. 20% des points sont attribués aux cas d'autogestion visibles pour lesquels l'entrée et la sortie désirée sont visibles, et les 80% des points restants sont attribués aux cas d'autogestion pour lesquels vous ne verriez pas l'entrée et la sortie."
   ]
  },
  {
   "cell_type": "markdown",
   "metadata": {
    "id": "N-9tttgVhw3v"
   },
   "source": [
    "# Python basics"
   ]
  },
  {
   "cell_type": "markdown",
   "metadata": {
    "id": "oXbA4_5uzqyG"
   },
   "source": [
    "## 1 - Palindrome\n",
    "\n",
    "Given an integer `x`, return `True` if `x` is a palindrome integer.\n",
    "\n",
    "An integer is a palindrome when it reads the same backward as forward.\n",
    "\n",
    "---\n",
    "\n",
    "## 1 - Palindrome\n",
    "\n",
    "Étant donné un nombre entier `x`, retourner `True` si `x` est un nombre entier palindrome.\n",
    "\n",
    "Un nombre entier est un palindrome lorsqu'il se lit de la même façon à l'envers qu'à l'endroit.\n",
    "\n",
    "---\n",
    "\n",
    "Example 1:\n",
    "\n",
    "`Input: x = 121`\n",
    "\n",
    "`Output: True`\n",
    "\n",
    "Example 2:\n",
    "\n",
    "`Input: x = 123`\n",
    "\n",
    "`Output: False`\n",
    "\n",
    "Example 3:\n",
    "\n",
    "`Input: x = -121`\n",
    "\n",
    "`Output: False`"
   ]
  },
  {
   "cell_type": "code",
   "execution_count": 2,
   "metadata": {
    "id": "QfunnlJliOVx"
   },
   "outputs": [],
   "source": [
    "def is_palindrome(x):\n",
    "    \"\"\"\n",
    "    :x: int\n",
    "    :return: bool\n",
    "    \"\"\"\n",
    "    digits = str(x)\n",
    "    return digits == digits[::-1]"
   ]
  },
  {
   "cell_type": "code",
   "execution_count": 5,
   "metadata": {},
   "outputs": [
    {
     "data": {
      "text/plain": [
       "True"
      ]
     },
     "execution_count": 5,
     "metadata": {},
     "output_type": "execute_result"
    }
   ],
   "source": [
    "is_palindrome(121)"
   ]
  },
  {
   "cell_type": "markdown",
   "metadata": {
    "id": "ggSSukL13gWK"
   },
   "source": [
    "## 2 - Contains duplicates\n",
    "\n",
    "Given an integer list `nums` and an integer `k`, return `True` if there are two distinct indices `i` and `j` in the list such that `nums[i] == nums[j]` and `abs(i - j) <= k`.\n",
    "\n",
    "---\n",
    "\n",
    "## 2 - Contient des entrées dupliquées\n",
    "\n",
    "Étant donnée une liste de nombres entiers `nums` et un nombre entier `k`, retourne `True` s'il existe deux indices distincts `i` et `j` dans la liste tels que `nums[i] == nums[j]` et `abs(i - j) <= k`.\n",
    "\n",
    "---\n",
    "\n",
    "Example 1:\n",
    "\n",
    "`Input: nums = [1,2,3,1], k = 3`\n",
    "\n",
    "`Output: True`\n",
    "\n",
    "Example 2:\n",
    "\n",
    "`Input: nums =  [1,2,3,1,2,3], k = 2`\n",
    "\n",
    "`Output: False`"
   ]
  },
  {
   "cell_type": "code",
   "execution_count": null,
   "metadata": {},
   "outputs": [],
   "source": [
    "min(0, -3)"
   ]
  },
  {
   "cell_type": "code",
   "execution_count": 17,
   "metadata": {
    "id": "hW-6UPPgid7l"
   },
   "outputs": [],
   "source": [
    "def contains_duplicates(nums, k):\n",
    "    \"\"\"\n",
    "    :nums: list[int]\n",
    "    :k: int\n",
    "    :return: bool\n",
    "    \"\"\"\n",
    "    is_valid = False\n",
    "    for i in range(len(nums)):\n",
    "        start = max(0, -k+i)\n",
    "        end = min(len(nums), k+i+1)\n",
    "        for j in range(start, end):\n",
    "            if i == j:\n",
    "                continue\n",
    "            if nums[i] == nums[j]:\n",
    "                is_valid = True\n",
    "                break\n",
    "    return is_valid"
   ]
  },
  {
   "cell_type": "code",
   "execution_count": 20,
   "metadata": {},
   "outputs": [
    {
     "data": {
      "text/plain": [
       "False"
      ]
     },
     "execution_count": 20,
     "metadata": {},
     "output_type": "execute_result"
    }
   ],
   "source": [
    "contains_duplicates([1,2,3,1, 2, 3],2)"
   ]
  },
  {
   "cell_type": "markdown",
   "metadata": {
    "id": "KyYup_TPjz40"
   },
   "source": [
    "## 3 - Third maximum number\n",
    "\n",
    "Given an integer list `nums`, return the third distinct maximum number in this list. If the third maximum does not exist, return the maximum number.\n",
    "\n",
    "---\n",
    "\n",
    "## 3 - Troisième nombre maximum\n",
    "\n",
    "Étant donnée une liste de nombres entiers `nums`, retourne le troisième nombre maximum distinct dans cette liste. Si le troisième maximum n'existe pas, retourne le nombre maximum.\n",
    "\n",
    "---\n",
    "\n",
    "Example 1:\n",
    "\n",
    "`Input: nums = [0,1,2,3,2]`\n",
    "\n",
    "`Output: 1`\n",
    "\n",
    "Example 2:\n",
    "\n",
    "`Input: nums = [1,2]`\n",
    "\n",
    "`Output: 2`"
   ]
  },
  {
   "cell_type": "code",
   "execution_count": 41,
   "metadata": {
    "id": "4AqrG_KKj_u-"
   },
   "outputs": [],
   "source": [
    "def third_maximum(nums):\n",
    "    \"\"\"\n",
    "    :nums: list[int]\n",
    "    :return: int\n",
    "    \"\"\"\n",
    "    max_items = np.unique(nums)\n",
    "    max_items = np.sort(max_items)[::-1]\n",
    "    if max_items.shape[0] < 3:\n",
    "        return max_items[0]\n",
    "    else:\n",
    "        return max_items[2]"
   ]
  },
  {
   "cell_type": "code",
   "execution_count": 43,
   "metadata": {},
   "outputs": [
    {
     "data": {
      "text/plain": [
       "2"
      ]
     },
     "execution_count": 43,
     "metadata": {},
     "output_type": "execute_result"
    }
   ],
   "source": [
    "third_maximum([1,2])"
   ]
  },
  {
   "cell_type": "markdown",
   "metadata": {
    "id": "y4jdovCl6Wz6"
   },
   "source": [
    "## 4 - Missing number\n",
    "\n",
    "Given an integer list `nums` containing `n` distinct numbers in the range `[0, n]`, return the only number in the range that is missing from the list.\n",
    "\n",
    "---\n",
    "\n",
    "## 4 - Numéro manquant\n",
    "\n",
    "Étant donnée une liste de nombres entiers `nums` contenant `n` nombres distincts dans l'intervalle `[0, n]`, retourner le seul nombre dans l'intervalle qui manque dans la liste.\n",
    "\n",
    "---\n",
    "\n",
    "Example 1:\n",
    "\n",
    "`Input: nums = [3,0,1]`\n",
    "\n",
    "`Output: 2`\n",
    "\n",
    "Example 2:\n",
    "\n",
    "`Input: nums = [0,1]`\n",
    "\n",
    "`Output: 2`"
   ]
  },
  {
   "cell_type": "code",
   "execution_count": 46,
   "metadata": {
    "id": "oMsaQ4vDil7m"
   },
   "outputs": [],
   "source": [
    "def missing_number(nums):\n",
    "    \"\"\"\n",
    "    :nums: list[int]\n",
    "    :return: int\n",
    "    \"\"\" \n",
    "    new_list = list(range(0, len(nums)+1))\n",
    "    set_new = set(new_list)\n",
    "    set_orig = set(nums)\n",
    "    missing_val = list(sorted(set_new - set_orig))    \n",
    "    return missing_val[0]"
   ]
  },
  {
   "cell_type": "code",
   "execution_count": 48,
   "metadata": {},
   "outputs": [
    {
     "data": {
      "text/plain": [
       "2"
      ]
     },
     "execution_count": 48,
     "metadata": {},
     "output_type": "execute_result"
    }
   ],
   "source": [
    "missing_number([0,1])"
   ]
  },
  {
   "cell_type": "markdown",
   "metadata": {
    "id": "FM-xJKDL4Fz-"
   },
   "source": [
    "## 5 - Valid Parentheses\n",
    "Given a string s containing just the characters `(`, `)`, `{`, `}`, `[` and `]`, determine if the input string is valid.\n",
    "\n",
    "An input string is valid if:\n",
    "\n",
    "1. Open brackets must be closed by the same type of brackets.\n",
    "2. Open brackets must be closed in the correct order.\n",
    "3. Every close bracket has a corresponding open bracket of the same type.\n",
    "\n",
    "---\n",
    "\n",
    "## 5 - Parenthèses valides\n",
    "\n",
    "Étant donnée une chaîne de caractères `s` contenant uniquement les caractères `(`, `)`, `{`, `}`, `[` et `]`, déterminez si la chaîne d'entrée est valide.\n",
    "\n",
    "Une chaîne est valide si :\n",
    "\n",
    "1. Les parenthèses ouvertes doivent être fermées par le même type de parenthèses.\n",
    "2. Les parenthèses ouvertes doivent être fermées dans le bon ordre.\n",
    "3. Chaque parenthèse fermée a une parenthèse ouverte du même type.\n",
    "\n",
    "---\n",
    "\n",
    "Example 1:\n",
    "\n",
    "`Input: s = \"()\"`\n",
    "\n",
    "`Output: true`\n",
    "\n",
    "Example 2:\n",
    "\n",
    "`Input: s = \"()[]{}\"`\n",
    "\n",
    "`Output: true`\n",
    "\n",
    "Example 3:\n",
    "\n",
    "`Input: s = \"(]\"`\n",
    "\n",
    "`Output: false`"
   ]
  },
  {
   "cell_type": "code",
   "execution_count": 49,
   "metadata": {},
   "outputs": [
    {
     "data": {
      "text/plain": [
       "['()[]{}']"
      ]
     },
     "execution_count": 49,
     "metadata": {},
     "output_type": "execute_result"
    }
   ],
   "source": [
    "\"()[]{}\".split('')"
   ]
  },
  {
   "cell_type": "code",
   "execution_count": 51,
   "metadata": {
    "id": "B-1VKJ0g4FK0"
   },
   "outputs": [],
   "source": [
    "def is_valid_parentheses(s):\n",
    "    \"\"\"\n",
    "    :s: str\n",
    "    :return: bool\n",
    "    \"\"\"\n",
    "    #src : https://www.geeksforgeeks.org/check-for-balanced-parentheses-in-python/ \n",
    "    open_brackets = [\"[\",\"{\",\"(\"]\n",
    "    close_brackets = [\"]\",\"}\",\")\"]\n",
    "    \n",
    "    stack = []\n",
    "    for i in s:\n",
    "        if i in open_brackets:\n",
    "            stack.append(i)\n",
    "        elif i in close_brackets:\n",
    "            pos = close_brackets.index(i)\n",
    "            if ((len(stack) > 0) and\n",
    "                (open_brackets[pos] == stack[len(stack)-1])):\n",
    "                stack.pop()\n",
    "            else:\n",
    "                return False\n",
    "    if len(stack) == 0:\n",
    "        return True\n",
    "    else:\n",
    "        return False\n"
   ]
  },
  {
   "cell_type": "code",
   "execution_count": 53,
   "metadata": {},
   "outputs": [
    {
     "data": {
      "text/plain": [
       "False"
      ]
     },
     "execution_count": 53,
     "metadata": {},
     "output_type": "execute_result"
    }
   ],
   "source": [
    "is_valid_parentheses(\"()[{}\")"
   ]
  },
  {
   "cell_type": "markdown",
   "metadata": {
    "id": "fXin79v55lr7"
   },
   "source": [
    "## 6 - Plus One\n",
    "You are given a **large integer** represented as an integer array `digits`, where each `digits[i]` is the `ith` digit of the integer. The digits are ordered from most significant to least significant in left-to-right order. The large integer does not contain any leading `0`'s.\n",
    "\n",
    "Increment the large integer by one and return the resulting array of digits.\n",
    "\n",
    "---\n",
    "\n",
    "## 6 - Plus un\n",
    "\n",
    "On vous donne un **grand entier** représenté par une liste d'entiers `digits`, où chaque `digits[i]` est le `ith` chiffre de l'entier. Le grand nombre entier ne contient pas de \"0\" en tête.\n",
    "\n",
    "Incrémente le grand nombre entier de un et retourne la liste de chiffres résultant.\n",
    "\n",
    "---\n",
    "\n",
    "Example 1:\n",
    "\n",
    "`Input: digits = [1,2,3]`\n",
    "\n",
    "`Output: [1,2,4]`\n",
    "\n",
    "Example 2:\n",
    "\n",
    "`Input: digits = [4,3,2,1]`\n",
    "\n",
    "`Output: [4,3,2,2]`\n",
    "\n",
    "Example 3:\n",
    "\n",
    "`Input: digits = [9]`\n",
    "\n",
    "`Output: [1,0]`"
   ]
  },
  {
   "cell_type": "code",
   "execution_count": 56,
   "metadata": {},
   "outputs": [
    {
     "data": {
      "text/plain": [
       "['10']"
      ]
     },
     "execution_count": 56,
     "metadata": {},
     "output_type": "execute_result"
    }
   ],
   "source": [
    "str(10).split(' ')"
   ]
  },
  {
   "cell_type": "code",
   "execution_count": 59,
   "metadata": {
    "id": "zWFOKSFr5lVA"
   },
   "outputs": [],
   "source": [
    "def plus_one(digits):\n",
    "    \"\"\"\n",
    "    :digits: List[int]\n",
    "    :return: List[int]\n",
    "    \"\"\"\n",
    "    num = 0\n",
    "    for i, elem in enumerate(digits[::-1]):\n",
    "        num += elem * 10**i\n",
    "    \n",
    "    new_num = str(num + 1)\n",
    "    new_list = []\n",
    "    for item in new_num:\n",
    "        new_list.append(int(item))\n",
    "    return new_list"
   ]
  },
  {
   "cell_type": "code",
   "execution_count": 61,
   "metadata": {},
   "outputs": [
    {
     "data": {
      "text/plain": [
       "[1, 2, 4]"
      ]
     },
     "execution_count": 61,
     "metadata": {},
     "output_type": "execute_result"
    }
   ],
   "source": [
    "plus_one([1,2,3])"
   ]
  },
  {
   "cell_type": "markdown",
   "metadata": {
    "id": "znx23PBH63_J"
   },
   "source": [
    "## 7 - Sum of Unique Elements\n",
    "You are given an integer array `nums`. The unique elements of an array are the elements that appear **exactly once** in the array.\n",
    "\n",
    "Return the **sum** of all the unique elements of `nums`.\n",
    "\n",
    "---\n",
    "\n",
    "## 7 - Somme des éléments uniques\n",
    "\n",
    "On vous donne une liste de nombres entiers `nums`. Les éléments uniques de la liste sont les éléments qui apparaissent **exactement une fois**.\n",
    "\n",
    "Retournez la **somme** de tous les éléments uniques de `nums`.\n",
    "\n",
    "---\n",
    "\n",
    "Example 1:\n",
    "\n",
    "`Input: nums = [1,2,3,2]`\n",
    "\n",
    "`Output: 4`\n",
    "\n",
    "Example 2:\n",
    "\n",
    "`Input: nums = [1,1,1,1,1]`\n",
    "\n",
    "`Output: 0`\n",
    "\n",
    "Example 3:\n",
    "\n",
    "`Input: nums = [1,2,3,4,5]`\n",
    "\n",
    "`Output: 15`"
   ]
  },
  {
   "cell_type": "code",
   "execution_count": 63,
   "metadata": {},
   "outputs": [
    {
     "data": {
      "text/plain": [
       "(array([1, 2, 3]), array([2, 1, 1]))"
      ]
     },
     "execution_count": 63,
     "metadata": {},
     "output_type": "execute_result"
    }
   ],
   "source": [
    "np.unique([1,2,3,1], return_counts=True)"
   ]
  },
  {
   "cell_type": "code",
   "execution_count": 64,
   "metadata": {
    "id": "AnDcqhcP63WB"
   },
   "outputs": [],
   "source": [
    "def sum_of_unique(nums):\n",
    "    \"\"\"\n",
    "    :nums: List[int]\n",
    "    :return: int\n",
    "    \"\"\"\n",
    "    ret_sum = 0\n",
    "    unique,counts = np.unique(nums, return_counts=True)\n",
    "    for i in range(len(counts)):\n",
    "        if counts[i] == 1:\n",
    "            ret_sum += unique[i]\n",
    "\n",
    "    return ret_sum"
   ]
  },
  {
   "cell_type": "code",
   "execution_count": 66,
   "metadata": {},
   "outputs": [
    {
     "data": {
      "text/plain": [
       "2"
      ]
     },
     "execution_count": 66,
     "metadata": {},
     "output_type": "execute_result"
    }
   ],
   "source": [
    "sum_of_unique([1,2,1,1])"
   ]
  },
  {
   "cell_type": "markdown",
   "metadata": {
    "id": "9iGBAjMijNJO"
   },
   "source": [
    "# Machine Learning"
   ]
  },
  {
   "cell_type": "markdown",
   "metadata": {
    "id": "GKvFCxah8fAG"
   },
   "source": [
    "## 8 - Histogram Methods / Histogrammes"
   ]
  },
  {
   "cell_type": "markdown",
   "metadata": {
    "id": "aSdasmE68fAG"
   },
   "source": [
    "### 1-d Histogram for binary classification"
   ]
  },
  {
   "cell_type": "markdown",
   "metadata": {
    "id": "_CedvZJj8fAG"
   },
   "source": [
    "Histogram methods can be used to create a simple binary classification learning algorithm to be able to predict an output (y) any point in the input space $x \\in \\mathbb{R}$.\n",
    "\n",
    "The steps for building this algorithm includes:\n",
    "* Step 1: Divide the input space into small bins of equal sizes\n",
    "* Step 2: Train by counting the number of training points in each region for each of the classess\n",
    "\n",
    "For a given test point, the region in which the test point lies is identified and the majority class of that region is returned as the predicted class for the given test point. \n",
    "\n",
    "\n",
    "**Boundary Cases to consider**\n",
    "* When the test point given to `predict()` falls into a bin that is empty, the method returns the label of the majority class (the class with the most examples in the training set given to `fit()`, we assume that the number of points of the two classes in the training set is different).\n",
    "* When the test point given to `predict()` falls into a bin such that there is a tie between the two classes, the `fit()` should return the majority class of the entire training set. \n",
    "* When the test point given to `predict()` falls outside the bin area, the `fit()` should return the majority class of the entire training set. \n",
    "\n",
    "\n",
    "Complete the methods for the `HistogramMethod1d` class provided below for a binary classification task.\n",
    "\n",
    "**Variable description**\n",
    "\n",
    "`self.bins` : array of `self.n_bins`+1 elements \n",
    "\n",
    "The `fit` method should construct the `self.bins` variable which will contain the boundaries of the bins. For example,\n",
    "if `self.n_bins` = 4 , then `self.bins` should be an array with 5 elements where the first element is the minimum value of the inputs, the last element is the maximum value of the inputs, and the remaining elemets are uniformly distributed in the array.\n",
    "\n",
    "(note: you can also construct another array to keep track of the majority class in each bins in the fit method)"
   ]
  },
  {
   "cell_type": "markdown",
   "metadata": {
    "id": "C_9OS4XL8fAH"
   },
   "source": [
    "### Histogramme 1d pour classification binaire"
   ]
  },
  {
   "cell_type": "markdown",
   "metadata": {
    "id": "5G34PW978fAH"
   },
   "source": [
    "\n",
    "Les méthodes à histogramme peuvent être utilisées pour une tâche de classification binaire, permettant de prédire une sortie (y) pour tout point de l'espace d'entrée $x \\in \\mathbb{R}$.\n",
    "\n",
    "Ce classifieur consiste à\n",
    "\n",
    "* Diviser l'espace d'entrée en cases de tailles égales\n",
    "* Apprendre en comptant le nombre de points de chaque classe dans chaque case\n",
    "* Pour un point de test, l'algorithme identifie la case dans lequel le point de test est et retourne la classe majoritaire de cette case.\n",
    "\n",
    "\n",
    "**Cas limites à considérer**\n",
    "\n",
    "Si un point donné à la méthode `predict()` tombe \n",
    "* dans une case vide,\n",
    "* dans une case où il y a égalité entre les points d'entraînement de chaque classe\n",
    "* ou à l'extérieur des cases\n",
    "le classifieur doit renvoyer le label de la classe majoritaire dans l'ensemble d'entraînement (on assume qu'il y a un nombre différent de points pour chaque classe dans l'ensemble d'entraînement).\n",
    "\n",
    "\n",
    "Complétez le code de la classe  `HistogramMethod1d` ci-dessous pour une taĉhe de classification binaire en 1d. \n",
    "\n",
    "**Description de variable**\n",
    "\n",
    "`self.bins` : tableau de `self.n_bins`+1 elements \n",
    "\n",
    "La mehode `fit` doit construire le tableau `self.bins` qui contiendra lees limites de chaque cases. Par exemple, si `self.n_bins` = 4 , alors `self.bins` doit être un tableau de 5 élément ou \n",
    "* le premier élément est la valeur minimum des points de l'ensemble d'entraînement\n",
    "* le dernier élément est la valeur maximum des points de l'ensemble d'entraînement\n",
    "* les autres éléments sont uniformément répartis entre ces deux valeurs.\n",
    "\n",
    "(note: vous pouvez aussi construire un autre tableau pour enregistrer la classe majoritaire de chaque case dans la méthode `fit`)"
   ]
  },
  {
   "cell_type": "code",
   "execution_count": null,
   "metadata": {
    "id": "hrQJ29Xj8fAI"
   },
   "outputs": [],
   "source": [
    "class HistogramMethod1d():\n",
    "    def __init__(self, n_bins):\n",
    "        \"\"\"Initialize a 1 dimensional Histogram based binary classifier\n",
    "\n",
    "        :param n_bins: int\n",
    "        \"\"\"\n",
    "        self.n_bins = n_bins\n",
    "        self.bins = None\n",
    "        self.bin_label = []\n",
    "        \n",
    "    def fit(self, X, y):\n",
    "        \"\"\"Train the binary classifier\n",
    "\n",
    "        :param X: float np.array of size N x 1 (each row is a data point)\n",
    "        :param y: int np.array of size N (class of each data point -1 or +1)\n",
    "\n",
    "        \"\"\"\n",
    "        x_min, x_max = min(X), max(X)\n",
    "        bin_size = (x_max - x_min)/self.n_bins\n",
    "        self.bins = [x_min]\n",
    "        prev_value = x_min\n",
    "        for i in range(1, self.n_bins):\n",
    "            new_value = prev_value + bin_size\n",
    "            self.bins.append(new_value)\n",
    "            prev_value = new_value\n",
    "        \n",
    "        self.bins.append(x_max)\n",
    "        \n",
    "        mid_index = self.n_bins // 2\n",
    "        mid_value_bin = self.bins[mid_index]\n",
    "        \n",
    "        \n",
    "#         for i, pt in enumerate(X):\n",
    "#             new_list = self.bins.copy()\n",
    "#             new_list.append(pt)\n",
    "#             sorted_list = np.sort(new_list)\n",
    "#             index_pt = [i for i in range(len(sorted_list)) if sorted_list[i] == pt]\n",
    "            \n",
    "#             if pt >= self.mid_value_bin:\n",
    "#                 start = mid_index\n",
    "#                 end = len(self.bins)\n",
    "#             else:\n",
    "#                 start = 0\n",
    "#                 end = mid_index\n",
    "            \n",
    "            \n",
    "                \n",
    "             \n",
    "        \n",
    "    \n",
    "    def predict(self, X):\n",
    "        \"\"\"For each data point in the input X, return the predicted class\n",
    "\n",
    "        :param X: float np.array of size N x 1 (each row is a data point)\n",
    "        :return: int np.array of size N (predicted class of each data point -1 or +1)\n",
    "        \"\"\"\n",
    "        pass\n",
    "    \n"
   ]
  },
  {
   "cell_type": "markdown",
   "metadata": {
    "id": "CgdXIS9X8fAI"
   },
   "source": [
    "### 2d Histogram"
   ]
  },
  {
   "cell_type": "markdown",
   "metadata": {
    "id": "6XbuDbv38fAI"
   },
   "source": [
    "Now, implement a `HistogramMethod2d` taking into account both the dimensions at once.\n",
    "\n",
    "**Variable description**\n",
    "\n",
    "`self.bins` : array of size $ 2 \\times$ (`self.n_bins`$+1$) \n",
    "\n",
    "Similarly to the 1d case, the `fit` method should construct the `self.bins` array. For example, if `self.n_bins` = 2, then `array([1, 2, 3],[0,2,4])` would be the array constructed by the `fit` method if the minimum and maximum values in the training set are 1 and 3 along the first dimension, and 0 and 4 along the second dimension."
   ]
  },
  {
   "cell_type": "markdown",
   "metadata": {
    "id": "FJND3hEr8fAI"
   },
   "source": [
    "### Histogramme 2d pour classification binaire"
   ]
  },
  {
   "cell_type": "markdown",
   "metadata": {
    "id": "kA9jGh5O8fAJ"
   },
   "source": [
    "Implémentez maintenant le code de la classe `HistogramMethod2d` ci-dessous pour un problème de classification binaire en 2 dimensions.\n",
    "\n",
    "**Description de variable**\n",
    "\n",
    "`self.bins` : tableau de taille $ 2 \\times$ (`self.n_bins`$+1$) \n",
    "\n",
    "Comme dans le cas 1d, la méthode `fit` doit construire le table `self.bins`. Par exemple, si `self.n_bins` = 2, alors le tableau `array([1, 2, 3],[0,2,4])` serait construit par la méthode `fit` si les valeurs minimales et maximales dans le jeu de données d'entraînement sont 1 et 3 pour la première dimension, et 0 et 4 pour la second dimension.  "
   ]
  },
  {
   "cell_type": "code",
   "execution_count": null,
   "metadata": {
    "id": "7OkOvgKZ8fAJ"
   },
   "outputs": [],
   "source": [
    "class HistogramMethod2d():\n",
    "    def __init__(self, n_bins):\n",
    "        \"\"\"Initialize a 2 dimensional Histogram based binary classifier\n",
    "\n",
    "        :param bins: int\n",
    "        \n",
    "        \"\"\"\n",
    "        self.n_bins = bins\n",
    "        self.bins = None\n",
    "\n",
    "    def fit(self, X, y):\n",
    "        \"\"\"Train the binary classifier\n",
    "\n",
    "        :param X: float np.array of size N x 2 (each row is a data point)\n",
    "        :param y: int np.array of size N (class of each data point -1 or +1)\n",
    "        \"\"\"\n",
    "        pass\n",
    "\n",
    "    def predict(self, X):\n",
    "        \"\"\"For each data point in the input X, return the predicted class\n",
    "\n",
    "        :param X: float np.array of size N x 2 (each row is a data point)\n",
    "        :return: int np.array of size N (predicted class of each data point -1 or +1)\n",
    "        \"\"\"\n",
    "        pass\n",
    "\n"
   ]
  }
 ],
 "metadata": {
  "colab": {
   "collapsed_sections": [],
   "provenance": [],
   "toc_visible": true
  },
  "kernelspec": {
   "display_name": "Python 3 (ipykernel)",
   "language": "python",
   "name": "python3"
  },
  "language_info": {
   "codemirror_mode": {
    "name": "ipython",
    "version": 3
   },
   "file_extension": ".py",
   "mimetype": "text/x-python",
   "name": "python",
   "nbconvert_exporter": "python",
   "pygments_lexer": "ipython3",
   "version": "3.8.10"
  },
  "vscode": {
   "interpreter": {
    "hash": "97a7fd64faddb34e08d555246f618d9303b02f738940ab4c576b793ea2f1c13b"
   }
  }
 },
 "nbformat": 4,
 "nbformat_minor": 1
}
